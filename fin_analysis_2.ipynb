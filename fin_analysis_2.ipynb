{
 "cells": [
  {
   "attachments": {},
   "cell_type": "markdown",
   "metadata": {},
   "source": [
    "Рассчитаем доходность, валатильность и посмотроим один из индикаторов."
   ]
  },
  {
   "cell_type": "code",
   "execution_count": 2,
   "metadata": {},
   "outputs": [],
   "source": [
    "import pandas as pd\n",
    "import yfinance as yf\n",
    "import numpy as np\n",
    "import matplotlib.pyplot as plt"
   ]
  },
  {
   "cell_type": "code",
   "execution_count": 21,
   "metadata": {},
   "outputs": [
    {
     "name": "stdout",
     "output_type": "stream",
     "text": [
      "[*********************100%***********************]  1 of 1 completed\n"
     ]
    },
    {
     "data": {
      "text/html": [
       "<div>\n",
       "<style scoped>\n",
       "    .dataframe tbody tr th:only-of-type {\n",
       "        vertical-align: middle;\n",
       "    }\n",
       "\n",
       "    .dataframe tbody tr th {\n",
       "        vertical-align: top;\n",
       "    }\n",
       "\n",
       "    .dataframe thead th {\n",
       "        text-align: right;\n",
       "    }\n",
       "</style>\n",
       "<table border=\"1\" class=\"dataframe\">\n",
       "  <thead>\n",
       "    <tr style=\"text-align: right;\">\n",
       "      <th></th>\n",
       "      <th>Open</th>\n",
       "      <th>High</th>\n",
       "      <th>Low</th>\n",
       "      <th>Close</th>\n",
       "      <th>Adj Close</th>\n",
       "      <th>Volume</th>\n",
       "    </tr>\n",
       "    <tr>\n",
       "      <th>Date</th>\n",
       "      <th></th>\n",
       "      <th></th>\n",
       "      <th></th>\n",
       "      <th></th>\n",
       "      <th></th>\n",
       "      <th></th>\n",
       "    </tr>\n",
       "  </thead>\n",
       "  <tbody>\n",
       "    <tr>\n",
       "      <th>2022-01-03</th>\n",
       "      <td>296.100006</td>\n",
       "      <td>303.880005</td>\n",
       "      <td>296.000000</td>\n",
       "      <td>302.850006</td>\n",
       "      <td>302.850006</td>\n",
       "      <td>45109764</td>\n",
       "    </tr>\n",
       "    <tr>\n",
       "      <th>2022-01-04</th>\n",
       "      <td>308.529999</td>\n",
       "      <td>308.799988</td>\n",
       "      <td>301.630005</td>\n",
       "      <td>304.500000</td>\n",
       "      <td>304.500000</td>\n",
       "      <td>49869680</td>\n",
       "    </tr>\n",
       "    <tr>\n",
       "      <th>2022-01-05</th>\n",
       "      <td>302.709991</td>\n",
       "      <td>304.190002</td>\n",
       "      <td>297.059998</td>\n",
       "      <td>297.260010</td>\n",
       "      <td>297.260010</td>\n",
       "      <td>38421900</td>\n",
       "    </tr>\n",
       "    <tr>\n",
       "      <th>2022-01-06</th>\n",
       "      <td>292.829987</td>\n",
       "      <td>295.100006</td>\n",
       "      <td>287.420013</td>\n",
       "      <td>292.910004</td>\n",
       "      <td>292.910004</td>\n",
       "      <td>72853031</td>\n",
       "    </tr>\n",
       "    <tr>\n",
       "      <th>2022-01-10</th>\n",
       "      <td>296.989990</td>\n",
       "      <td>298.500000</td>\n",
       "      <td>288.679993</td>\n",
       "      <td>290.260010</td>\n",
       "      <td>290.260010</td>\n",
       "      <td>61468730</td>\n",
       "    </tr>\n",
       "  </tbody>\n",
       "</table>\n",
       "</div>"
      ],
      "text/plain": [
       "                  Open        High         Low       Close   Adj Close  \\\n",
       "Date                                                                     \n",
       "2022-01-03  296.100006  303.880005  296.000000  302.850006  302.850006   \n",
       "2022-01-04  308.529999  308.799988  301.630005  304.500000  304.500000   \n",
       "2022-01-05  302.709991  304.190002  297.059998  297.260010  297.260010   \n",
       "2022-01-06  292.829987  295.100006  287.420013  292.910004  292.910004   \n",
       "2022-01-10  296.989990  298.500000  288.679993  290.260010  290.260010   \n",
       "\n",
       "              Volume  \n",
       "Date                  \n",
       "2022-01-03  45109764  \n",
       "2022-01-04  49869680  \n",
       "2022-01-05  38421900  \n",
       "2022-01-06  72853031  \n",
       "2022-01-10  61468730  "
      ]
     },
     "execution_count": 21,
     "metadata": {},
     "output_type": "execute_result"
    }
   ],
   "source": [
    "sber = yf.download('SBER.ME', '2022-01-01')\n",
    "sber.head()"
   ]
  },
  {
   "attachments": {},
   "cell_type": "markdown",
   "metadata": {},
   "source": [
    "Доходность - процентное изменение стоимости акции за один торговый день. Оно не учитывает дивиденды и комиссии."
   ]
  },
  {
   "cell_type": "code",
   "execution_count": 26,
   "metadata": {},
   "outputs": [
    {
     "name": "stdout",
     "output_type": "stream",
     "text": [
      "            Adj Close\n",
      "Date                 \n",
      "2022-01-03   0.000000\n",
      "2022-01-04   0.005448\n",
      "2022-01-05  -0.023777\n",
      "2022-01-06  -0.014634\n",
      "2022-01-10  -0.009047\n"
     ]
    }
   ],
   "source": [
    "# Скорректированая цена закрытия`\n",
    "daily_close = sber[['Adj Close']]\n",
    "\n",
    "# Дневная доходность\n",
    "daily_pct_change = daily_close.pct_change()\n",
    "\n",
    "# Заменить NA значения на 0\n",
    "daily_pct_change.fillna(0, inplace=True)\n",
    "\n",
    "print(daily_pct_change.head())"
   ]
  },
  {
   "cell_type": "code",
   "execution_count": 32,
   "metadata": {},
   "outputs": [
    {
     "name": "stdout",
     "output_type": "stream",
     "text": [
      "                Open      High       Low     Close  Adj Close    Volume\n",
      "Date                                                                   \n",
      "2022-01-31       NaN       NaN       NaN       NaN        NaN       NaN\n",
      "2022-02-28 -0.519007 -0.405745 -0.552589 -0.492771  -0.492771       inf\n",
      "2022-03-31  0.092929 -0.035843  0.168621  0.101073   0.101073 -0.701164\n",
      "2022-04-29 -0.085619 -0.118106 -0.087125 -0.103626  -0.103626 -0.262266\n",
      "2022-05-31  0.015606 -0.033846  0.022801 -0.024845  -0.024845 -1.000000\n",
      "                Open      High       Low     Close  Adj Close    Volume\n",
      "Date                                                                   \n",
      "2022-01-31       NaN       NaN       NaN       NaN        NaN       NaN\n",
      "2022-05-31 -0.376239 -0.370543 -0.386633 -0.381891  -0.381891 -0.176706\n"
     ]
    }
   ],
   "source": [
    "# Значения за последний рабочий день месяца\n",
    "monthly = sber.resample('BM').apply(lambda x: x[-1]) # Значения за последний рабочий день месяца\n",
    "\n",
    "print(monthly.pct_change().tail())\n",
    "\n",
    "# Пересчитать `sber` по кварталам и взять среднее значение за квартал\n",
    "quarter = sber.resample(\"4M\").mean()\n",
    "\n",
    "print(quarter.pct_change().tail())"
   ]
  },
  {
   "cell_type": "code",
   "execution_count": 33,
   "metadata": {},
   "outputs": [
    {
     "name": "stdout",
     "output_type": "stream",
     "text": [
      "            Adj Close\n",
      "Date                 \n",
      "2022-01-03        NaN\n",
      "2022-01-04   0.005448\n",
      "2022-01-05  -0.023777\n",
      "2022-01-06  -0.014634\n",
      "2022-01-10  -0.009047\n"
     ]
    }
   ],
   "source": [
    "# Дневная доходность\n",
    "daily_pct_change = daily_close / daily_close.shift(1) - 1\n",
    "\n",
    "print(daily_pct_change.head())"
   ]
  },
  {
   "cell_type": "code",
   "execution_count": 39,
   "metadata": {},
   "outputs": [
    {
     "data": {
      "image/png": "[encoded data removed]",
      "text/plain": [
       "<Figure size 640x480 with 9 Axes>"
      ]
     },
     "metadata": {},
     "output_type": "display_data"
    },
    {
     "name": "stdout",
     "output_type": "stream",
     "text": [
      "           AFLT.ME      DSKY.ME      ENRU.ME      IRAO.ME      PIKK.ME  \\\n",
      "count  1083.000000  1083.000000  1083.000000  1083.000000  1083.000000   \n",
      "mean     -0.000972     0.000374    -0.000451     0.000517     0.000921   \n",
      "std       0.026867     0.022558     0.018693     0.033191     0.020145   \n",
      "min      -0.318367    -0.312391    -0.216316    -0.487897    -0.268180   \n",
      "25%      -0.009607    -0.005359    -0.006298    -0.008973    -0.005915   \n",
      "50%      -0.000898     0.000220     0.000000    -0.000113     0.000899   \n",
      "75%       0.007305     0.006087     0.006263     0.008909     0.007936   \n",
      "max       0.247176     0.353146     0.167435     0.683900     0.127685   \n",
      "\n",
      "           PLZL.ME      SBER.ME  \n",
      "count  1083.000000  1083.000000  \n",
      "mean      0.001417     0.000263  \n",
      "std       0.024083     0.026418  \n",
      "min      -0.315727    -0.466825  \n",
      "25%      -0.009274    -0.009443  \n",
      "50%       0.000470     0.000148  \n",
      "75%       0.012258     0.011353  \n",
      "max       0.249888     0.160000  \n"
     ]
    }
   ],
   "source": [
    "# Диаграмма `daily_pct_c`\n",
    "daily_pct_change.hist(bins=50)\n",
    "\n",
    "plt.show()\n",
    "\n",
    "# Общая статистика\n",
    "print(daily_pct_change.describe())"
   ]
  }
 ],
 "metadata": {
  "kernelspec": {
   "display_name": "Python 3",
   "language": "python",
   "name": "python3"
  },
  "language_info": {
   "codemirror_mode": {
    "name": "ipython",
    "version": 3
   },
   "file_extension": ".py",
   "mimetype": "text/x-python",
   "name": "python",
   "nbconvert_exporter": "python",
   "pygments_lexer": "ipython3",
   "version": "3.11.1"
  },
  "orig_nbformat": 4
 },
 "nbformat": 4,
 "nbformat_minor": 2
}
